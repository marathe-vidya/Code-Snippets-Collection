{
 "cells": [
  {
   "cell_type": "markdown",
   "id": "1d19c06d",
   "metadata": {},
   "source": [
    "# Simple Mathematical Functions\n"
   ]
  },
  {
   "cell_type": "code",
   "execution_count": 1,
   "id": "b79b03ca",
   "metadata": {},
   "outputs": [
    {
     "name": "stdout",
     "output_type": "stream",
     "text": [
      "4.0\n",
      "5.039684199579493\n"
     ]
    }
   ],
   "source": [
    "from scipy.special import cbrt\n",
    "  \n",
    "# cube root of 64 = 4\n",
    "print(cbrt(64))\n",
    "\n",
    "# cube root of 128 = 5.039\n",
    "print(cbrt(128))"
   ]
  },
  {
   "cell_type": "code",
   "execution_count": 2,
   "id": "4a320d08",
   "metadata": {},
   "outputs": [
    {
     "name": "stdout",
     "output_type": "stream",
     "text": [
      "[504. 336.]\n",
      "[4.0, 12.0, 24.0, 24.0, 0.0]\n",
      "4.0\n",
      "0.0\n"
     ]
    }
   ],
   "source": [
    "# Permutation and combination\n",
    "from scipy.special import perm, comb\n",
    "\n",
    "print(perm([9,8],3))\n",
    "\n",
    "# permutations of 4\n",
    "print([perm(4, 1), perm(4, 2), perm(4, 3), \n",
    "       perm(4, 4), perm(4, 5)])\n",
    "\n",
    "  \n",
    "# combinations of input 4\n",
    "print(comb(4,1))\n",
    "\n",
    "# combinations of 20C10\n",
    "print(comb(2,10))"
   ]
  },
  {
   "cell_type": "code",
   "execution_count": 3,
   "id": "342058cd",
   "metadata": {},
   "outputs": [
    {
     "name": "stdout",
     "output_type": "stream",
     "text": [
      "120.0\n"
     ]
    }
   ],
   "source": [
    "# gamma() function. It is the generalized factorial since z*gamma(z) = gamma(z+1) and gamma(n+1) = n!\n",
    "from scipy.special import gamma\n",
    "  \n",
    "print(gamma(6))\n"
   ]
  },
  {
   "cell_type": "code",
   "execution_count": 4,
   "id": "3b205aa2",
   "metadata": {},
   "outputs": [
    {
     "name": "stdout",
     "output_type": "stream",
     "text": [
      "Matrix A: \n",
      " [[0.6331439  0.35042489 0.57779441]\n",
      " [0.68091518 0.14928395 0.8112044 ]\n",
      " [0.37508438 0.06907118 0.64545411]]\n",
      "\n",
      " Diagonal sum : 1.427881963212454\n",
      "\n",
      " Transpose : \n",
      " [[0.6331439  0.68091518 0.37508438]\n",
      " [0.35042489 0.14928395 0.06907118]\n",
      " [0.57779441 0.8112044  0.64545411]]\n",
      "\n",
      " Matrix B : \n",
      " [[1.+5.j 0.+2.j 0.+3.j]\n",
      " [0.+4.j 0.+5.j 0.+6.j]]\n",
      "\n",
      " Matrix C : \n",
      " [[0.92579226 0.13259506 0.13012215 0.42130526 0.13331984]\n",
      " [0.58120964 0.89600336 0.84058861 0.37792502 0.55716593]\n",
      " [0.05404582 0.01122113 0.72068472 0.43192037 0.49132547]\n",
      " [0.2642796  0.07321828 0.18449916 0.63443723 0.08086403]\n",
      " [0.54039575 0.17005583 0.06685289 0.16583021 0.76797467]\n",
      " [0.85395127 0.59762483 0.60695742 0.73899068 0.41472174]\n",
      " [0.94215197 0.77808794 0.65900811 0.85327842 0.02074751]\n",
      " [0.04936141 0.71207818 0.37099192 0.72364826 0.61173082]\n",
      " [0.09084775 0.82455365 0.93585015 0.66360998 0.54469989]\n",
      " [0.63879604 0.48203442 0.36862445 0.22404658 0.92778472]]\n"
     ]
    }
   ],
   "source": [
    "import numpy as np\n",
    "\n",
    "#Create random 2x2 matrix\n",
    "A = np.matrix(np.random.random((3,3)))\n",
    "print(\"Matrix A: \\n\", A)\n",
    "\n",
    "#np.trace(A) returns sum along diagonal\n",
    "print(\"\\n Diagonal sum :\", np.trace(A))\n",
    "\n",
    "print(\"\\n Transpose : \\n\", A.T)\n",
    "\n",
    "b = np.array([(1+5j,2j,3j), (4j,5j,6j)])\n",
    "B = np.asmatrix(b)\n",
    "print(\"\\n Matrix B : \\n\", B)\n",
    "\n",
    "C = np.mat(np.random.random((10,5)))\n",
    "print(\"\\n Matrix C : \\n\", C)\n",
    "\n"
   ]
  },
  {
   "cell_type": "code",
   "execution_count": 5,
   "id": "77de25d7",
   "metadata": {},
   "outputs": [
    {
     "name": "stdout",
     "output_type": "stream",
     "text": [
      "1000.0\n",
      "8.0\n",
      "1.0\n",
      "0.7071067811865475\n"
     ]
    }
   ],
   "source": [
    "from scipy import special\n",
    "a = special.exp10(3)\n",
    "print(a)\n",
    " \n",
    "b = special.exp2(3)\n",
    "print(b)\n",
    " \n",
    "c = special.sindg(90)\n",
    "print(c)\n",
    " \n",
    "d = special.cosdg(45)\n",
    "print(d)\n"
   ]
  },
  {
   "cell_type": "code",
   "execution_count": 6,
   "id": "67d85c9d",
   "metadata": {},
   "outputs": [
    {
     "data": {
      "text/plain": [
       "5.000000000254801"
      ]
     },
     "execution_count": 6,
     "metadata": {},
     "output_type": "execute_result"
    }
   ],
   "source": [
    "from scipy.misc import derivative\n",
    "def f(x):\n",
    "    return x**3 + x**2 +5\n",
    "derivative(f, 1.0, dx=1e-6)"
   ]
  },
  {
   "cell_type": "code",
   "execution_count": 7,
   "id": "1186b1bc",
   "metadata": {},
   "outputs": [
    {
     "name": "stdout",
     "output_type": "stream",
     "text": [
      "(5.583333333333334, 6.198745220823791e-14)\n"
     ]
    }
   ],
   "source": [
    "#SiPy provides a function named quad to calculate the integral of a function which has one variable. \n",
    "#The limits can be ±∞ (± inf) to indicate infinite limits.\n",
    "\n",
    "from scipy import special\n",
    "from scipy import integrate\n",
    "def f(x):\n",
    "    return x**3 + x**2 +5\n",
    "a= lambda x:special.exp10(x)\n",
    "b = integrate.quad(f, 0, 1)\n",
    "print(b)"
   ]
  },
  {
   "cell_type": "code",
   "execution_count": 8,
   "id": "07ae1e14",
   "metadata": {},
   "outputs": [
    {
     "data": {
      "text/plain": [
       "(-1.3333333333333335, 1.4802973661668755e-14)"
      ]
     },
     "execution_count": 8,
     "metadata": {},
     "output_type": "execute_result"
    }
   ],
   "source": [
    "#SciPy provides dblquad that can be used to calculate double integrals.\n",
    "from scipy import integrate\n",
    "a = lambda y, x: x*y**2\n",
    "b = lambda x: 1\n",
    "c = lambda x: -1\n",
    "integrate.dblquad(a, 0, 2, b, c)"
   ]
  },
  {
   "cell_type": "code",
   "execution_count": 9,
   "id": "d5a3cd0e",
   "metadata": {},
   "outputs": [
    {
     "name": "stdout",
     "output_type": "stream",
     "text": [
      "[ 6.-0.j -2.+2.j -2.-0.j -2.-2.j]\n",
      "[ 1.5-0.j  -0.5-0.5j -0.5-0.j  -0.5+0.5j]\n"
     ]
    }
   ],
   "source": [
    "# Fourier Transform\n",
    "\n",
    "from scipy.fftpack import fft, ifft\n",
    "x = np.array([0,1,2,3])\n",
    "y = fft(x)\n",
    "print(y)\n",
    "\n",
    "x = np.array([0,1,2,3])\n",
    "y = ifft(x)\n",
    "print(y)"
   ]
  },
  {
   "cell_type": "markdown",
   "id": "a1497872",
   "metadata": {},
   "source": [
    "# Constants"
   ]
  },
  {
   "cell_type": "code",
   "execution_count": 10,
   "id": "fff9af3a",
   "metadata": {},
   "outputs": [],
   "source": [
    "from scipy import constants"
   ]
  },
  {
   "cell_type": "code",
   "execution_count": 11,
   "id": "94049a66",
   "metadata": {},
   "outputs": [
    {
     "name": "stdout",
     "output_type": "stream",
     "text": [
      "3.141592653589793\n"
     ]
    }
   ],
   "source": [
    "print(constants.pi)"
   ]
  },
  {
   "cell_type": "raw",
   "id": "dc3e8884",
   "metadata": {},
   "source": [
    "Unit Categories\n",
    "The units are placed under these categories:\n",
    "\n",
    "Metric\n",
    "Binary\n",
    "Mass\n",
    "Angle\n",
    "Time\n",
    "Length\n",
    "Pressure\n",
    "Volume\n",
    "Speed\n",
    "Temperature\n",
    "Energy\n",
    "Power\n",
    "Force"
   ]
  },
  {
   "cell_type": "code",
   "execution_count": 12,
   "id": "1713ed03",
   "metadata": {},
   "outputs": [
    {
     "name": "stdout",
     "output_type": "stream",
     "text": [
      "1e+24\n",
      "1e+21\n",
      "1e+18\n",
      "1000000000000000.0\n",
      "1000000000000.0\n",
      "1000000000.0\n",
      "1000000.0\n",
      "1000.0\n",
      "100.0\n",
      "10.0\n",
      "0.1\n",
      "0.01\n",
      "0.001\n",
      "1e-06\n",
      "1e-09\n",
      "1e-12\n",
      "1e-15\n",
      "1e-18\n",
      "1e-21\n"
     ]
    }
   ],
   "source": [
    "print(constants.yotta)    #1e+24\n",
    "print(constants.zetta)    #1e+21\n",
    "print(constants.exa)      #1e+18\n",
    "print(constants.peta)     #1000000000000000.0\n",
    "print(constants.tera)     #1000000000000.0\n",
    "print(constants.giga)     #1000000000.0\n",
    "print(constants.mega)     #1000000.0\n",
    "print(constants.kilo)     #1000.0\n",
    "print(constants.hecto)    #100.0\n",
    "print(constants.deka)     #10.0\n",
    "print(constants.deci)     #0.1\n",
    "print(constants.centi)    #0.01\n",
    "print(constants.milli)    #0.001\n",
    "print(constants.micro)    #1e-06\n",
    "print(constants.nano)     #1e-09\n",
    "print(constants.pico)     #1e-12\n",
    "print(constants.femto)    #1e-15\n",
    "print(constants.atto)     #1e-18\n",
    "print(constants.zepto)    #1e-21"
   ]
  },
  {
   "cell_type": "code",
   "execution_count": 13,
   "id": "3803062a",
   "metadata": {},
   "outputs": [
    {
     "name": "stdout",
     "output_type": "stream",
     "text": [
      "0.001\n",
      "1000.0\n",
      "0.45359236999999997\n",
      "0.028349523124999998\n",
      "0.0002\n",
      "1.6605390666e-27\n"
     ]
    }
   ],
   "source": [
    "# Weights in terms of kilogram(Standard unit)\n",
    "print(constants.gram)        #0.001\n",
    "print(constants.metric_ton)  #1000.0\n",
    "print(constants.pound)       #0.45359236999999997\n",
    "print(constants.ounce)       #0.028349523124999998\n",
    "print(constants.carat)       #0.0002\n",
    "print(constants.atomic_mass) #1.66053904e-27"
   ]
  },
  {
   "cell_type": "code",
   "execution_count": 14,
   "id": "265947f2",
   "metadata": {},
   "outputs": [
    {
     "name": "stdout",
     "output_type": "stream",
     "text": [
      "0.017453292519943295\n",
      "0.0002908882086657216\n",
      "4.84813681109536e-06\n"
     ]
    }
   ],
   "source": [
    "# Angles in terms of Radian\n",
    "print(constants.degree)     #0.017453292519943295\n",
    "print(constants.arcmin)     #0.0002908882086657216\n",
    "print(constants.arcsec)     #4.84813681109536e-06"
   ]
  },
  {
   "cell_type": "code",
   "execution_count": 15,
   "id": "a737f499",
   "metadata": {},
   "outputs": [
    {
     "name": "stdout",
     "output_type": "stream",
     "text": [
      "60.0\n",
      "3600.0\n",
      "86400.0\n",
      "604800.0\n",
      "31536000.0\n"
     ]
    }
   ],
   "source": [
    "# Time in terms of minutes\n",
    "\n",
    "print(constants.minute)      #60.0\n",
    "print(constants.hour)        #3600.0\n",
    "print(constants.day)         #86400.0\n",
    "print(constants.week)        #604800.0\n",
    "print(constants.year)        #31536000.0\n"
   ]
  },
  {
   "cell_type": "code",
   "execution_count": 16,
   "id": "2015a075",
   "metadata": {},
   "outputs": [
    {
     "name": "stdout",
     "output_type": "stream",
     "text": [
      "0.0254\n",
      "0.30479999999999996\n",
      "0.9143999999999999\n",
      "1609.3439999999998\n",
      "1852.0\n",
      "1e-15\n",
      "1e-10\n",
      "149597870700.0\n",
      "9460730472580800.0\n"
     ]
    }
   ],
   "source": [
    "# Length\n",
    "\n",
    "print(constants.inch)              #0.0254\n",
    "print(constants.foot)              #0.30479999999999996\n",
    "print(constants.yard)              #0.9143999999999999\n",
    "print(constants.mile)              #1609.3439999999998\n",
    "print(constants.nautical_mile)     #1852.0\n",
    "print(constants.fermi)             #1e-15\n",
    "print(constants.angstrom)          #1e-10\n",
    "print(constants.astronomical_unit) #149597870691.0\n",
    "print(constants.light_year)        #9460730472580800.0"
   ]
  },
  {
   "cell_type": "code",
   "execution_count": 17,
   "id": "3f7d0cb5",
   "metadata": {},
   "outputs": [
    {
     "name": "stdout",
     "output_type": "stream",
     "text": [
      "101325.0\n",
      "100000.0\n",
      "133.32236842105263\n"
     ]
    }
   ],
   "source": [
    "# Pressure in terms of Pascal\n",
    "\n",
    "print(constants.atmosphere)  #101325.0\n",
    "print(constants.bar)         #100000.0\n",
    "print(constants.torr)        #133.32236842105263"
   ]
  },
  {
   "cell_type": "code",
   "execution_count": 18,
   "id": "265278f4",
   "metadata": {},
   "outputs": [
    {
     "name": "stdout",
     "output_type": "stream",
     "text": [
      "10000.0\n",
      "4046.8564223999992\n"
     ]
    }
   ],
   "source": [
    "# Area in square meters. \n",
    "\n",
    "print(constants.hectare) #10000.0\n",
    "print(constants.acre)    #4046.8564223999992"
   ]
  },
  {
   "cell_type": "code",
   "execution_count": 19,
   "id": "1035f41a",
   "metadata": {},
   "outputs": [
    {
     "name": "stdout",
     "output_type": "stream",
     "text": [
      "0.001\n",
      "0.0037854117839999997\n",
      "0.15898729492799998\n"
     ]
    }
   ],
   "source": [
    "# Volume\n",
    "print(constants.litre)            #0.001\n",
    "print(constants.gallon)           #0.0037854117839999997\n",
    "print(constants.barrel)           #0.15898729492799998"
   ]
  },
  {
   "cell_type": "code",
   "execution_count": 20,
   "id": "b0196947",
   "metadata": {},
   "outputs": [
    {
     "name": "stdout",
     "output_type": "stream",
     "text": [
      "273.15\n",
      "0.5555555555555556\n"
     ]
    }
   ],
   "source": [
    "# Temperature in Kelvin\n",
    "\n",
    "print(constants.zero_Celsius)      #273.15\n",
    "print(constants.degree_Fahrenheit) #0.5555555555555556"
   ]
  },
  {
   "cell_type": "markdown",
   "id": "f4cac1a3",
   "metadata": {},
   "source": [
    "# Spatial distance"
   ]
  },
  {
   "cell_type": "code",
   "execution_count": 21,
   "id": "03ee12e9",
   "metadata": {},
   "outputs": [
    {
     "name": "stdout",
     "output_type": "stream",
     "text": [
      "9.055385138137417\n"
     ]
    }
   ],
   "source": [
    "from scipy.spatial.distance import euclidean\n",
    "\n",
    "p1 = (1, 1)\n",
    "p2 = (10, 2)\n",
    "\n",
    "res = euclidean(p1, p2)\n",
    "\n",
    "print(res)"
   ]
  },
  {
   "cell_type": "code",
   "execution_count": 22,
   "id": "2f2aa1bb",
   "metadata": {},
   "outputs": [
    {
     "name": "stdout",
     "output_type": "stream",
     "text": [
      "10\n"
     ]
    }
   ],
   "source": [
    "#Manhattan Distance\n",
    "from scipy.spatial.distance import cityblock\n",
    "\n",
    "p1 = (1, 1)\n",
    "p2 = (10, 2)\n",
    "\n",
    "res = cityblock(p1, p2)\n",
    "\n",
    "print(res)"
   ]
  },
  {
   "cell_type": "code",
   "execution_count": 23,
   "id": "cba3b31a",
   "metadata": {},
   "outputs": [
    {
     "name": "stdout",
     "output_type": "stream",
     "text": [
      "0.019419324309079777\n"
     ]
    }
   ],
   "source": [
    "# Cosine Distance = value of cosine angle between the two points A and B\n",
    "from scipy.spatial.distance import cosine\n",
    "\n",
    "p1 = (1, 0)\n",
    "p2 = (10, 2)\n",
    "\n",
    "res = cosine(p1, p2)\n",
    "\n",
    "print(res)"
   ]
  },
  {
   "cell_type": "code",
   "execution_count": 24,
   "id": "b9026e19",
   "metadata": {},
   "outputs": [
    {
     "name": "stdout",
     "output_type": "stream",
     "text": [
      "0.6666666666666666\n"
     ]
    }
   ],
   "source": [
    "# Hamming Distance = proportion of bits where two bits are difference.\n",
    "\n",
    "from scipy.spatial.distance import hamming\n",
    "\n",
    "p1 = (True, False, True)\n",
    "p2 = (False, True, True)\n",
    "\n",
    "res = hamming(p1, p2)\n",
    "\n",
    "print(res)\n"
   ]
  },
  {
   "cell_type": "code",
   "execution_count": null,
   "id": "cae6107f",
   "metadata": {},
   "outputs": [],
   "source": []
  },
  {
   "cell_type": "code",
   "execution_count": null,
   "id": "f5de6d4c",
   "metadata": {},
   "outputs": [],
   "source": []
  },
  {
   "cell_type": "markdown",
   "id": "98fd8914",
   "metadata": {},
   "source": [
    "# Optimization and Curve Fit"
   ]
  },
  {
   "cell_type": "markdown",
   "id": "9a1274bf",
   "metadata": {},
   "source": [
    "Optimization deals with selecting the best option among a number of possible choices that are feasible or don't violate constraints. Python can be used to optimize parameters in a model to best fit data, increase profitability of a potential engineering design, or meet some other type of objective that can be described mathematically with variables and equations."
   ]
  },
  {
   "cell_type": "code",
   "execution_count": 25,
   "id": "e30f6e09",
   "metadata": {},
   "outputs": [],
   "source": [
    "import numpy as np\n",
    "import matplotlib.pyplot as plt\n",
    "\n",
    "from scipy.optimize import curve_fit, minimize"
   ]
  },
  {
   "cell_type": "markdown",
   "id": "9f3abcdc",
   "metadata": {},
   "source": [
    "## Finding Minima"
   ]
  },
  {
   "cell_type": "code",
   "execution_count": 26,
   "id": "07881b7e",
   "metadata": {},
   "outputs": [
    {
     "data": {
      "image/png": "[encoded data removed]",
      "text/plain": [
       "<Figure size 432x288 with 1 Axes>"
      ]
     },
     "metadata": {
      "needs_background": "light"
     },
     "output_type": "display_data"
    }
   ],
   "source": [
    "def f(x):\n",
    "    y = (x**2)-(12 *x) + 20\n",
    "    return y\n",
    "\n",
    "x = np.linspace(2,10,50)\n",
    "plt.plot(x, f(x), color='red')\n",
    "plt.show()\n"
   ]
  },
  {
   "cell_type": "code",
   "execution_count": 27,
   "id": "1c41f886",
   "metadata": {},
   "outputs": [
    {
     "name": "stdout",
     "output_type": "stream",
     "text": [
      "x= [6.00000002] \n",
      "y = -15.999999999999993\n"
     ]
    }
   ],
   "source": [
    "# We have to find at what value of x, does this function have the minimum value for y.\n",
    "# And get the minimum value for y.\n",
    "\n",
    "# Let us guess that minima is found a 2\n",
    "x_start = 4.0\n",
    "\n",
    "result = minimize(f, x_start)\n",
    "if result.success:\n",
    "    print(f\"x= {result.x} \\ny = {result.fun}\")"
   ]
  },
  {
   "cell_type": "code",
   "execution_count": 28,
   "id": "bdd94015",
   "metadata": {},
   "outputs": [
    {
     "name": "stdout",
     "output_type": "stream",
     "text": [
      "[6.00000002] -16.000000000000007\n"
     ]
    }
   ],
   "source": [
    "# If method not given, one of BFGS, L-BFGS-B, SLSQP, depending on whether or not the problem has constraints or bounds.\n",
    "mymin = minimize(f,4, method='Powell')  \n",
    "\n",
    "print(mymin.x , mymin.fun)"
   ]
  },
  {
   "cell_type": "raw",
   "id": "f73bc206",
   "metadata": {},
   "source": [
    "scipy.optimize.curve_fit(f = model function, \n",
    "                         xdata, ydata, - >  Arrays of length N\n",
    "                         p0 = Initial guess for the parameters, \n",
    "                         sigma=None   = Determines the uncertainty in ydata\n",
    "                         absolute_sigma=False, \n",
    "                         check_finite=True, -> If True, check that the input arrays do not contain nans of infs.\n",
    "                         bounds=(- inf, inf), -> Lower and upper bounds on parameters. \n",
    "                         method=None, **kwargs)"
   ]
  },
  {
   "cell_type": "code",
   "execution_count": 29,
   "id": "d6b49b06",
   "metadata": {},
   "outputs": [],
   "source": [
    "def function(x, a, b):\n",
    "   return a*x + b"
   ]
  },
  {
   "cell_type": "code",
   "execution_count": 30,
   "id": "12647b0c",
   "metadata": {},
   "outputs": [],
   "source": [
    "x = np.linspace(start=-50, stop=10, num=40)\n",
    "y = function(x, 6, 2)\n",
    "\n",
    "np.random.seed(6)\n",
    "noise = 20*np.random.normal(size=y.size)\n",
    "y = y + noise"
   ]
  },
  {
   "cell_type": "code",
   "execution_count": 31,
   "id": "58981dfe",
   "metadata": {},
   "outputs": [
    {
     "name": "stdout",
     "output_type": "stream",
     "text": [
      "Estimated value of a : 5.859050240780936\n",
      "Estimated value of b : 1.172416121927438\n"
     ]
    },
    {
     "data": {
      "image/png": "[encoded data removed]",
      "text/plain": [
       "<Figure size 432x288 with 1 Axes>"
      ]
     },
     "metadata": {
      "needs_background": "light"
     },
     "output_type": "display_data"
    }
   ],
   "source": [
    "parameters,covariance = curve_fit(function, x, y)\n",
    "a,b= parameters\n",
    "\n",
    "x_new_value = np.arange(min(x), 30, 5)\n",
    "y_new_value = function(x_new_value, a, b)\n",
    "\n",
    "plt.scatter(x,y,color=\"green\")\n",
    "plt.plot(x_new_value,y_new_value,color=\"red\")\n",
    "plt.xlabel('X')\n",
    "plt.ylabel('Y')\n",
    "print(\"Estimated value of a : \"+ str(a))\n",
    "print(\"Estimated value of b : \" + str(b))\n",
    "plt.show()"
   ]
  },
  {
   "cell_type": "code",
   "execution_count": null,
   "id": "7ef35376",
   "metadata": {},
   "outputs": [],
   "source": []
  },
  {
   "cell_type": "code",
   "execution_count": 32,
   "id": "41c9cbe4",
   "metadata": {},
   "outputs": [
    {
     "data": {
      "text/plain": [
       "[<matplotlib.lines.Line2D at 0x7f8fb220d8e0>]"
      ]
     },
     "execution_count": 32,
     "metadata": {},
     "output_type": "execute_result"
    },
    {
     "data": {
      "image/png": "[encoded data removed]",
      "text/plain": [
       "<Figure size 432x288 with 1 Axes>"
      ]
     },
     "metadata": {
      "needs_background": "light"
     },
     "output_type": "display_data"
    }
   ],
   "source": [
    "xdata = [ -10.0, -9.0, -8.0, -7.0, -6.0, -5.0, -4.0, -3.0, -2.0, -1.0, 0.0, 1.0, 2.0, 3.0, 4.0, 5.0, 6.0, 7.0, 8.0, 9.0, 10.0]\n",
    "ydata = [1.2, 4.2, 6.7, 8.3, 10.6, 11.7, 13.5, 14.5, 15.7, 16.1, 16.6, 16.0, 15.4, 14.4, 14.2, 12.7, 10.3, 8.6, 6.1, 3.9, 2.1]\n",
    "\n",
    "# Get array from data.\n",
    "xdata = np.asarray(xdata)\n",
    "ydata = np.asarray(ydata)\n",
    "plt.plot(xdata, ydata, 'o')"
   ]
  },
  {
   "cell_type": "code",
   "execution_count": 33,
   "id": "9fe4bc64",
   "metadata": {},
   "outputs": [],
   "source": [
    "# Gaussian function\n",
    "def Gauss(x, A, B):\n",
    "    y = A*np.exp(-1*B*x**2)\n",
    "    return y"
   ]
  },
  {
   "cell_type": "code",
   "execution_count": 34,
   "id": "a6687b65",
   "metadata": {},
   "outputs": [
    {
     "name": "stdout",
     "output_type": "stream",
     "text": [
      "16.934286340519687\n",
      "0.015739600927241554\n"
     ]
    },
    {
     "name": "stderr",
     "output_type": "stream",
     "text": [
      "/tmp/ipykernel_21531/253355251.py:3: RuntimeWarning: overflow encountered in exp\n",
      "  y = A*np.exp(-1*B*x**2)\n"
     ]
    }
   ],
   "source": [
    "parameters, covariance = curve_fit(Gauss, xdata, ydata)\n",
    "fit_A, fit_B = parameters\n",
    "print(fit_A)\n",
    "print(fit_B)"
   ]
  },
  {
   "cell_type": "code",
   "execution_count": 35,
   "id": "62732532",
   "metadata": {},
   "outputs": [
    {
     "data": {
      "text/plain": [
       "<matplotlib.legend.Legend at 0x7f8fb65e9fd0>"
      ]
     },
     "execution_count": 35,
     "metadata": {},
     "output_type": "execute_result"
    },
    {
     "data": {
      "image/png": "[encoded data removed]",
      "text/plain": [
       "<Figure size 432x288 with 1 Axes>"
      ]
     },
     "metadata": {
      "needs_background": "light"
     },
     "output_type": "display_data"
    }
   ],
   "source": [
    "fit_y = Gauss(xdata, fit_A, fit_B)\n",
    "plt.plot(xdata, ydata, 'o', label='data')\n",
    "plt.plot(xdata, fit_y, '-', label='fit')\n",
    "plt.legend()"
   ]
  },
  {
   "cell_type": "code",
   "execution_count": 36,
   "id": "289b3e4f",
   "metadata": {},
   "outputs": [
    {
     "name": "stdout",
     "output_type": "stream",
     "text": [
      "The value of A with standard error of 0.35658.\n",
      "The value of B with standard error of 0.00087.\n"
     ]
    }
   ],
   "source": [
    "SE = np.sqrt(np.diag(covariance))\n",
    "SE_A = SE[0]\n",
    "SE_B = SE[1]\n",
    "\n",
    "print(F'The value of A with standard error of {SE_A:.5f}.')\n",
    "print(F'The value of B with standard error of {SE_B:.5f}.')"
   ]
  },
  {
   "cell_type": "code",
   "execution_count": 37,
   "id": "289f88ed",
   "metadata": {},
   "outputs": [
    {
     "data": {
      "text/plain": [
       "[<matplotlib.lines.Line2D at 0x7f8fb2135100>]"
      ]
     },
     "execution_count": 37,
     "metadata": {},
     "output_type": "execute_result"
    },
    {
     "data": {
      "image/png": "[encoded data removed]",
      "text/plain": [
       "<Figure size 432x288 with 1 Axes>"
      ]
     },
     "metadata": {
      "needs_background": "light"
     },
     "output_type": "display_data"
    }
   ],
   "source": [
    "def cos_func(x, D, E):\n",
    "    y = D*np.cos(E*x)\n",
    "    return y\n",
    "\n",
    "parameters, covariance = curve_fit(cos_func, xdata, ydata)\n",
    "fit_D = parameters[0]\n",
    "fit_E = parameters[1]\n",
    "\n",
    "fit_cosine = cos_func(xdata, fit_D, fit_E)\n",
    "\n",
    "plt.plot(xdata, ydata, 'o', label='data')\n",
    "plt.plot(xdata, fit_cosine, '-', label='fit')"
   ]
  },
  {
   "cell_type": "code",
   "execution_count": 38,
   "id": "03d23d42",
   "metadata": {},
   "outputs": [
    {
     "data": {
      "text/plain": [
       "[<matplotlib.lines.Line2D at 0x7f8fb211fd90>]"
      ]
     },
     "execution_count": 38,
     "metadata": {},
     "output_type": "execute_result"
    },
    {
     "data": {
      "image/png": "[encoded data removed]",
      "text/plain": [
       "<Figure size 432x288 with 1 Axes>"
      ]
     },
     "metadata": {
      "needs_background": "light"
     },
     "output_type": "display_data"
    }
   ],
   "source": [
    "# Looking at above figure, we guess that our D is around 16. ( D is parameter that controls height.)\n",
    "# Frequncy guessed =0.1\n",
    "\n",
    "guess = [16, 0.1]\n",
    "parameters, covariance = curve_fit(cos_func, xdata, ydata, p0=guess)\n",
    "fit_D = parameters[0]\n",
    "fit_E = parameters[1]\n",
    "\n",
    "fit_cosine = cos_func(xdata, fit_D, fit_E)\n",
    "\n",
    "plt.plot(xdata, ydata, 'o', label='data')\n",
    "plt.plot(xdata, fit_cosine, '-', label='fit')"
   ]
  },
  {
   "cell_type": "code",
   "execution_count": 39,
   "id": "4ba40645",
   "metadata": {
    "scrolled": true
   },
   "outputs": [
    {
     "name": "stdout",
     "output_type": "stream",
     "text": [
      "[10.         10.51282051 11.02564103 11.53846154 12.05128205 12.56410256\n",
      " 13.07692308 13.58974359 14.1025641  14.61538462 15.12820513 15.64102564\n",
      " 16.15384615 16.66666667 17.17948718 17.69230769 18.20512821 18.71794872\n",
      " 19.23076923 19.74358974 20.25641026 20.76923077 21.28205128 21.79487179\n",
      " 22.30769231 22.82051282 23.33333333 23.84615385 24.35897436 24.87179487\n",
      " 25.38461538 25.8974359  26.41025641 26.92307692 27.43589744 27.94871795\n",
      " 28.46153846 28.97435897 29.48717949 30.        ] [ 148.54629106  -40.24971292  -64.35421292  111.49394075    5.90918102\n",
      " -115.18792814  147.12594554  -56.26826209  -21.76203169  -63.24830579\n",
      "   82.6504812   161.92046896   26.07453969  113.84333686   39.403355\n",
      "  334.60268357  268.00824865   77.76351889  212.97973564  280.76216015\n",
      "  260.47181675  178.25740443  280.09167428  418.2921664   447.49855877\n",
      "  384.44652004  593.00942166  538.04310064  532.63303956  887.29763163\n",
      " 1109.70765584 1227.51478267 1527.02727587 1784.6078376  1912.71350634\n",
      " 2125.25323462 2549.01662043 2833.55257929 3470.18898182 4042.4572652 ]\n",
      "\n",
      "Estimated value of a : 0.6165682886274382\n",
      "Estimated value of b : 0.29262164621184605\n"
     ]
    },
    {
     "data": {
      "image/png": "[encoded data removed]",
      "text/plain": [
       "<Figure size 432x288 with 1 Axes>"
      ]
     },
     "metadata": {
      "needs_background": "light"
     },
     "output_type": "display_data"
    }
   ],
   "source": [
    "def function(x, a, b):\n",
    "    return a*np.exp(b*x)\n",
    "\n",
    "x = np.linspace(10, 30, 40)\n",
    "\n",
    "y = function(x, 0.5, 0.3)\n",
    "noise = 100*np.random.normal(size=y.size)\n",
    "y = y + noise\n",
    "print(x,y)\n",
    "popt,cov = curve_fit(function, x, y)\n",
    "a,b = popt\n",
    "\n",
    "x_new_value = np.arange(min(x), max(x), 1)\n",
    "y_new_value = function(x_new_value, a, b)\n",
    "\n",
    "plt.scatter(x,y,color=\"green\")\n",
    "plt.plot(x_new_value,y_new_value,color=\"red\")\n",
    "plt.xlabel('X')\n",
    "plt.ylabel('Y')\n",
    "print(\"\\nEstimated value of a : \"+ str(a))\n",
    "print(\"Estimated value of b : \" + str(b))\n",
    "plt.show()"
   ]
  },
  {
   "cell_type": "code",
   "execution_count": null,
   "id": "5b2722d4",
   "metadata": {},
   "outputs": [],
   "source": []
  },
  {
   "cell_type": "code",
   "execution_count": null,
   "id": "b9149fe2",
   "metadata": {},
   "outputs": [],
   "source": []
  },
  {
   "cell_type": "code",
   "execution_count": null,
   "id": "6fe290c5",
   "metadata": {},
   "outputs": [],
   "source": []
  },
  {
   "cell_type": "markdown",
   "id": "40e809ba",
   "metadata": {},
   "source": [
    "The scipy.optimize provides a number of commonly used optimization algorithms which can be seen using the help function.\n",
    "\n",
    "It basically consists of the following:\n",
    "\n",
    "1. Unconstrained and constrained minimization of multivariate scalar functions i.e minimize (eg. BFGS, Newton,    Conjugate Gradient, Nelder_mead simplex, etc)\n",
    "2. Global optimization routines (eg. differential_evolution, dual_annealing, etc)\n",
    "3. Least-squares minimization and curve fitting (eg. least_squares, curve_fit, etc)\n",
    "4. Scalar univariate functions minimizers and root finders (eg. minimize_scalar and root_scalar)\n",
    "5. Multivariate equation system solvers using algorithms such as hybrid Powell, Levenberg-Marquardt."
   ]
  },
  {
   "cell_type": "markdown",
   "id": "34e76707",
   "metadata": {},
   "source": [
    "Interpolation Functions:\n",
    "Interpolation refers to constructing new data points within a set of known data points. \n",
    "The SciPy library consists of a subpackage named scipy.interpolate that consists of spline functions and classes, \n",
    "one-dimensional and multi-dimensional (univariate and multivariate) interpolation classes, etc. \n",
    "\n",
    "Univariate Interpolation:\n",
    "Univariate interpolation is basically an area of curve-fitting which finds the curve that provides an exact fit \n",
    "to a series of two-dimensional data points. SciPy provides interp1d function that can be utilized to \n",
    "produce univariate interpolation.\n",
    "\n",
    "Multivariate Interpolation:\n",
    "Multivariate interpolation (spatial interpolation ) is a kind interpolation on functions that consist of \n",
    "more than one variables. The following example demonstrates an example of the interp2d function.\n",
    "Interpolating over a 2-D grid using the interp2d(x, y, z) function basically will use x, y, z arrays \n",
    "to approximate some function f: “z = f(x, y)“ and returns a function whose call method uses spline interpolation \n",
    "to find the value of new points.\n",
    "\n"
   ]
  },
  {
   "cell_type": "code",
   "execution_count": 40,
   "id": "4b23c4e1",
   "metadata": {},
   "outputs": [
    {
     "data": {
      "image/png": "[encoded data removed]",
      "text/plain": [
       "<Figure size 432x288 with 1 Axes>"
      ]
     },
     "metadata": {
      "needs_background": "light"
     },
     "output_type": "display_data"
    }
   ],
   "source": [
    "import matplotlib.pyplot as plt\n",
    "from scipy import interpolate\n",
    "x = np.arange(5, 20)\n",
    "y = np.exp(x/3.0)\n",
    "\n",
    "f = interpolate.interp1d(x, y)\n",
    "x1 = np.arange(6, 12)\n",
    "y1 = f(x1)  \n",
    "plt.plot(x, y, 'o', x1, y1, '--')\n",
    "plt.show()"
   ]
  },
  {
   "cell_type": "markdown",
   "id": "e3514b09",
   "metadata": {},
   "source": [
    "# Clustering"
   ]
  },
  {
   "cell_type": "code",
   "execution_count": 41,
   "id": "fb32edd2",
   "metadata": {},
   "outputs": [],
   "source": [
    "from matplotlib import pyplot as plt\n",
    "from scipy.cluster.hierarchy import dendrogram, linkage\n",
    "import numpy as np"
   ]
  },
  {
   "cell_type": "code",
   "execution_count": 42,
   "id": "e537e48a",
   "metadata": {},
   "outputs": [
    {
     "name": "stdout",
     "output_type": "stream",
     "text": [
      "(15, 2)\n"
     ]
    },
    {
     "data": {
      "image/png": "[encoded data removed]",
      "text/plain": [
       "<Figure size 432x288 with 1 Axes>"
      ]
     },
     "metadata": {
      "needs_background": "light"
     },
     "output_type": "display_data"
    }
   ],
   "source": [
    "np.random.seed(4711)  # for repeatability of this tutorial\n",
    "a = np.random.multivariate_normal([10, 0], [[3, 1], [1, 4]], size=[10,])\n",
    "b = np.random.multivariate_normal([0, 20], [[3, 1], [1, 4]], size=[5,])\n",
    "X = np.concatenate((a, b),)\n",
    "print(X.shape) # 150 samples with 2 dimensions\n",
    "plt.scatter(X[:,0], X[:,1])\n",
    "plt.show()"
   ]
  },
  {
   "cell_type": "code",
   "execution_count": 43,
   "id": "a29a75db",
   "metadata": {},
   "outputs": [],
   "source": [
    "# generate the linkage matrix\n",
    "Z = linkage(X, 'single')\n",
    "\n",
    "# other common linkage methods like 'single', 'complete', 'average', ... \n",
    "# and the different distance metrics like 'euclidean' (default), 'cityblock' aka Manhattan, '\n",
    "# hamming', 'cosine'... if you have the feeling that your data should not just be clustered \n",
    "# to minimize the overall intra cluster variance in euclidean space. "
   ]
  },
  {
   "cell_type": "code",
   "execution_count": 44,
   "id": "83f1de79",
   "metadata": {},
   "outputs": [
    {
     "data": {
      "image/png": "[encoded data removed]",
      "text/plain": [
       "<Figure size 1800x720 with 1 Axes>"
      ]
     },
     "metadata": {
      "needs_background": "light"
     },
     "output_type": "display_data"
    }
   ],
   "source": [
    "# calculate full dendrogram\n",
    "plt.figure(figsize=(25, 10))\n",
    "plt.title('Hierarchical Clustering Dendrogram')\n",
    "plt.xlabel('sample index')\n",
    "plt.ylabel('distance')\n",
    "dendrogram(\n",
    "    Z,\n",
    "    leaf_rotation=90.,  # rotates the x axis labels\n",
    "    leaf_font_size=8.,  # font size for the x axis labels\n",
    ")\n",
    "plt.show()"
   ]
  },
  {
   "cell_type": "code",
   "execution_count": null,
   "id": "7de7eb55",
   "metadata": {},
   "outputs": [],
   "source": []
  }
 ],
 "metadata": {
  "kernelspec": {
   "display_name": "Python 3 (ipykernel)",
   "language": "python",
   "name": "python3"
  },
  "language_info": {
   "codemirror_mode": {
    "name": "ipython",
    "version": 3
   },
   "file_extension": ".py",
   "mimetype": "text/x-python",
   "name": "python",
   "nbconvert_exporter": "python",
   "pygments_lexer": "ipython3",
   "version": "3.10.6"
  }
 },
 "nbformat": 4,
 "nbformat_minor": 5
}
